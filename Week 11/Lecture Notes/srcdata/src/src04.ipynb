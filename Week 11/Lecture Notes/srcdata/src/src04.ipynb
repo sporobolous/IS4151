{
 "cells": [
  {
   "cell_type": "code",
   "execution_count": null,
   "metadata": {},
   "outputs": [],
   "source": [
    "import random\n",
    "\n",
    "import numpy as np\n",
    "import pandas as pd\n",
    "\n",
    "from sklearn.model_selection import train_test_split\n",
    "from sklearn.ensemble import RandomForestClassifier\n",
    "from sklearn.tree import export_text, plot_tree\n",
    "from sklearn import metrics\n",
    "from sklearn.metrics import classification_report\n",
    "import matplotlib.pyplot as plt\n",
    "\n",
    "\n",
    "\n",
    "random.seed()"
   ]
  },
  {
   "cell_type": "code",
   "execution_count": null,
   "metadata": {},
   "outputs": [],
   "source": [
    "df = pd.read_csv('../data/iris.csv')\n",
    "df['class'] = np.where(df[\"class\"]==\"setosa\",0,\n",
    "                            np.where(df[\"class\"]==\"versicolor\",1,2))\n",
    "\n",
    "df"
   ]
  },
  {
   "cell_type": "code",
   "execution_count": null,
   "metadata": {},
   "outputs": [],
   "source": [
    "independent_variables = df.drop('class', axis=1)\n",
    "x = independent_variables.values\n",
    "y = df['class'].values\n",
    "\n",
    "x_train, x_test, y_train, y_test = train_test_split(x, y, train_size = 0.8, test_size = 0.2, random_state = random.randrange(99999), shuffle = True)\n",
    "\n",
    "rf_classifier = RandomForestClassifier(n_estimators=100, random_state=42)\n",
    "rf_classifier.fit(x_train, y_train)\n",
    "y_pred_train = rf_classifier.predict(x_train)\n",
    "y_pred_test = rf_classifier.predict(x_test)\n",
    "\n",
    "print('Training Accuracy {}'.format(metrics.accuracy_score(y_train, y_pred_train)))"
   ]
  },
  {
   "cell_type": "code",
   "execution_count": null,
   "metadata": {},
   "outputs": [],
   "source": [
    "print('Training Confusion = \\n{}'.format(metrics.confusion_matrix(y_train, y_pred_train, labels=[0,1,2])))"
   ]
  },
  {
   "cell_type": "code",
   "execution_count": null,
   "metadata": {},
   "outputs": [],
   "source": [
    "print(classification_report(y_train, y_pred_train))"
   ]
  },
  {
   "cell_type": "code",
   "execution_count": null,
   "metadata": {},
   "outputs": [],
   "source": [
    "print('Test Accuracy {}'.format(metrics.accuracy_score(y_test, y_pred_test)))"
   ]
  },
  {
   "cell_type": "code",
   "execution_count": null,
   "metadata": {},
   "outputs": [],
   "source": [
    "print('Test Confusion = \\n{}'.format(metrics.confusion_matrix(y_test, y_pred_test, labels=[0,1,2])))"
   ]
  },
  {
   "cell_type": "code",
   "execution_count": null,
   "metadata": {},
   "outputs": [],
   "source": [
    "print(classification_report(y_test, y_pred_test))"
   ]
  },
  {
   "cell_type": "code",
   "execution_count": null,
   "metadata": {},
   "outputs": [],
   "source": [
    "# View the structure of the first tree in the forest\n",
    "tree_0 = rf_classifier.estimators_[0]\n",
    "tree_structure = export_text(tree_0, feature_names=list(df.drop('class', axis=1).columns))\n",
    "print(tree_structure)"
   ]
  },
  {
   "cell_type": "code",
   "execution_count": null,
   "metadata": {},
   "outputs": [],
   "source": [
    "# Visualize the first tree in the forest\n",
    "plt.figure(figsize=(20, 10))\n",
    "plot_tree(tree_0, feature_names=list(df.drop('class', axis=1).columns), class_names=True, filled=True)\n",
    "plt.show()"
   ]
  },
  {
   "cell_type": "code",
   "execution_count": null,
   "metadata": {},
   "outputs": [],
   "source": [
    "# View the structure of the last tree in the forest\n",
    "tree_99 = rf_classifier.estimators_[99]\n",
    "tree_structure = export_text(tree_99, feature_names=list(df.drop('class', axis=1).columns))\n",
    "print(tree_structure)"
   ]
  },
  {
   "cell_type": "code",
   "execution_count": null,
   "metadata": {},
   "outputs": [],
   "source": [
    "# Visualize the last tree in the forest\n",
    "plt.figure(figsize=(20, 10))\n",
    "plot_tree(tree_99, feature_names=list(df.drop('class', axis=1).columns), class_names=True, filled=True)\n",
    "plt.show()"
   ]
  }
 ],
 "metadata": {
  "kernelspec": {
   "display_name": "Python 3",
   "language": "python",
   "name": "python3"
  },
  "language_info": {
   "codemirror_mode": {
    "name": "ipython",
    "version": 3
   },
   "file_extension": ".py",
   "mimetype": "text/x-python",
   "name": "python",
   "nbconvert_exporter": "python",
   "pygments_lexer": "ipython3",
   "version": "3.12.4"
  }
 },
 "nbformat": 4,
 "nbformat_minor": 4
}
