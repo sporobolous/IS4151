{
 "cells": [
  {
   "cell_type": "code",
   "execution_count": 43,
   "metadata": {},
   "outputs": [],
   "source": [
    "import math\n",
    "\n",
    "import pandas as pd\n",
    "import matplotlib.pyplot as plt\n",
    "\n",
    "from sklearn.linear_model import LinearRegression\n",
    "from sklearn import metrics\n",
    "\n",
    "import statsmodels.api as sm"
   ]
  },
  {
   "cell_type": "code",
   "execution_count": 44,
   "metadata": {},
   "outputs": [],
   "source": [
    "# load dataset\n",
    "df = pd.read_csv('../data/weight_height.csv', index_col=0)"
   ]
  },
  {
   "cell_type": "code",
   "execution_count": 45,
   "metadata": {},
   "outputs": [
    {
     "data": {
      "text/html": [
       "<div>\n",
       "<style scoped>\n",
       "    .dataframe tbody tr th:only-of-type {\n",
       "        vertical-align: middle;\n",
       "    }\n",
       "\n",
       "    .dataframe tbody tr th {\n",
       "        vertical-align: top;\n",
       "    }\n",
       "\n",
       "    .dataframe thead th {\n",
       "        text-align: right;\n",
       "    }\n",
       "</style>\n",
       "<table border=\"1\" class=\"dataframe\">\n",
       "  <thead>\n",
       "    <tr style=\"text-align: right;\">\n",
       "      <th></th>\n",
       "      <th>Weight</th>\n",
       "      <th>Height</th>\n",
       "      <th>Age</th>\n",
       "    </tr>\n",
       "  </thead>\n",
       "  <tbody>\n",
       "    <tr>\n",
       "      <th>Weight</th>\n",
       "      <td>1.000000</td>\n",
       "      <td>0.877785</td>\n",
       "      <td>0.811434</td>\n",
       "    </tr>\n",
       "    <tr>\n",
       "      <th>Height</th>\n",
       "      <td>0.877785</td>\n",
       "      <td>1.000000</td>\n",
       "      <td>0.740885</td>\n",
       "    </tr>\n",
       "    <tr>\n",
       "      <th>Age</th>\n",
       "      <td>0.811434</td>\n",
       "      <td>0.740885</td>\n",
       "      <td>1.000000</td>\n",
       "    </tr>\n",
       "  </tbody>\n",
       "</table>\n",
       "</div>"
      ],
      "text/plain": [
       "          Weight    Height       Age\n",
       "Weight  1.000000  0.877785  0.811434\n",
       "Height  0.877785  1.000000  0.740885\n",
       "Age     0.811434  0.740885  1.000000"
      ]
     },
     "execution_count": 45,
     "metadata": {},
     "output_type": "execute_result"
    }
   ],
   "source": [
    "df.corr(method='pearson') # check the correlation matrix"
   ]
  },
  {
   "cell_type": "code",
   "execution_count": 46,
   "metadata": {},
   "outputs": [
    {
     "name": "stderr",
     "output_type": "stream",
     "text": [
      "c:\\Python312\\Lib\\site-packages\\scipy\\stats\\_axis_nan_policy.py:531: UserWarning: kurtosistest only valid for n>=20 ... continuing anyway, n=19\n",
      "  res = hypotest_fun_out(*samples, **kwds)\n"
     ]
    },
    {
     "data": {
      "text/html": [
       "<table class=\"simpletable\">\n",
       "<caption>OLS Regression Results</caption>\n",
       "<tr>\n",
       "  <th>Dep. Variable:</th>         <td>Weight</td>      <th>  R-squared:         </th> <td>   0.771</td>\n",
       "</tr>\n",
       "<tr>\n",
       "  <th>Model:</th>                   <td>OLS</td>       <th>  Adj. R-squared:    </th> <td>   0.757</td>\n",
       "</tr>\n",
       "<tr>\n",
       "  <th>Method:</th>             <td>Least Squares</td>  <th>  F-statistic:       </th> <td>   57.08</td>\n",
       "</tr>\n",
       "<tr>\n",
       "  <th>Date:</th>             <td>Tue, 25 Mar 2025</td> <th>  Prob (F-statistic):</th> <td>7.89e-07</td>\n",
       "</tr>\n",
       "<tr>\n",
       "  <th>Time:</th>                 <td>04:56:26</td>     <th>  Log-Likelihood:    </th> <td> -43.519</td>\n",
       "</tr>\n",
       "<tr>\n",
       "  <th>No. Observations:</th>      <td>    19</td>      <th>  AIC:               </th> <td>   91.04</td>\n",
       "</tr>\n",
       "<tr>\n",
       "  <th>Df Residuals:</th>          <td>    17</td>      <th>  BIC:               </th> <td>   92.93</td>\n",
       "</tr>\n",
       "<tr>\n",
       "  <th>Df Model:</th>              <td>     1</td>      <th>                     </th>     <td> </td>   \n",
       "</tr>\n",
       "<tr>\n",
       "  <th>Covariance Type:</th>      <td>nonrobust</td>    <th>                     </th>     <td> </td>   \n",
       "</tr>\n",
       "</table>\n",
       "<table class=\"simpletable\">\n",
       "<tr>\n",
       "     <td></td>       <th>coef</th>     <th>std err</th>      <th>t</th>      <th>P>|t|</th>  <th>[0.025</th>    <th>0.975]</th>  \n",
       "</tr>\n",
       "<tr>\n",
       "  <th>const</th>  <td>   42.5701</td> <td>    2.680</td> <td>   15.885</td> <td> 0.000</td> <td>   36.916</td> <td>   48.224</td>\n",
       "</tr>\n",
       "<tr>\n",
       "  <th>Height</th> <td>    0.1976</td> <td>    0.026</td> <td>    7.555</td> <td> 0.000</td> <td>    0.142</td> <td>    0.253</td>\n",
       "</tr>\n",
       "</table>\n",
       "<table class=\"simpletable\">\n",
       "<tr>\n",
       "  <th>Omnibus:</th>       <td> 3.056</td> <th>  Durbin-Watson:     </th> <td>   2.643</td>\n",
       "</tr>\n",
       "<tr>\n",
       "  <th>Prob(Omnibus):</th> <td> 0.217</td> <th>  Jarque-Bera (JB):  </th> <td>   1.596</td>\n",
       "</tr>\n",
       "<tr>\n",
       "  <th>Skew:</th>          <td> 0.408</td> <th>  Prob(JB):          </th> <td>   0.450</td>\n",
       "</tr>\n",
       "<tr>\n",
       "  <th>Kurtosis:</th>      <td> 1.837</td> <th>  Cond. No.          </th> <td>    474.</td>\n",
       "</tr>\n",
       "</table><br/><br/>Notes:<br/>[1] Standard Errors assume that the covariance matrix of the errors is correctly specified."
      ],
      "text/latex": [
       "\\begin{center}\n",
       "\\begin{tabular}{lclc}\n",
       "\\toprule\n",
       "\\textbf{Dep. Variable:}    &      Weight      & \\textbf{  R-squared:         } &     0.771   \\\\\n",
       "\\textbf{Model:}            &       OLS        & \\textbf{  Adj. R-squared:    } &     0.757   \\\\\n",
       "\\textbf{Method:}           &  Least Squares   & \\textbf{  F-statistic:       } &     57.08   \\\\\n",
       "\\textbf{Date:}             & Tue, 25 Mar 2025 & \\textbf{  Prob (F-statistic):} &  7.89e-07   \\\\\n",
       "\\textbf{Time:}             &     04:56:26     & \\textbf{  Log-Likelihood:    } &   -43.519   \\\\\n",
       "\\textbf{No. Observations:} &          19      & \\textbf{  AIC:               } &     91.04   \\\\\n",
       "\\textbf{Df Residuals:}     &          17      & \\textbf{  BIC:               } &     92.93   \\\\\n",
       "\\textbf{Df Model:}         &           1      & \\textbf{                     } &             \\\\\n",
       "\\textbf{Covariance Type:}  &    nonrobust     & \\textbf{                     } &             \\\\\n",
       "\\bottomrule\n",
       "\\end{tabular}\n",
       "\\begin{tabular}{lcccccc}\n",
       "                & \\textbf{coef} & \\textbf{std err} & \\textbf{t} & \\textbf{P$> |$t$|$} & \\textbf{[0.025} & \\textbf{0.975]}  \\\\\n",
       "\\midrule\n",
       "\\textbf{const}  &      42.5701  &        2.680     &    15.885  &         0.000        &       36.916    &       48.224     \\\\\n",
       "\\textbf{Height} &       0.1976  &        0.026     &     7.555  &         0.000        &        0.142    &        0.253     \\\\\n",
       "\\bottomrule\n",
       "\\end{tabular}\n",
       "\\begin{tabular}{lclc}\n",
       "\\textbf{Omnibus:}       &  3.056 & \\textbf{  Durbin-Watson:     } &    2.643  \\\\\n",
       "\\textbf{Prob(Omnibus):} &  0.217 & \\textbf{  Jarque-Bera (JB):  } &    1.596  \\\\\n",
       "\\textbf{Skew:}          &  0.408 & \\textbf{  Prob(JB):          } &    0.450  \\\\\n",
       "\\textbf{Kurtosis:}      &  1.837 & \\textbf{  Cond. No.          } &     474.  \\\\\n",
       "\\bottomrule\n",
       "\\end{tabular}\n",
       "%\\caption{OLS Regression Results}\n",
       "\\end{center}\n",
       "\n",
       "Notes: \\newline\n",
       " [1] Standard Errors assume that the covariance matrix of the errors is correctly specified."
      ],
      "text/plain": [
       "<class 'statsmodels.iolib.summary.Summary'>\n",
       "\"\"\"\n",
       "                            OLS Regression Results                            \n",
       "==============================================================================\n",
       "Dep. Variable:                 Weight   R-squared:                       0.771\n",
       "Model:                            OLS   Adj. R-squared:                  0.757\n",
       "Method:                 Least Squares   F-statistic:                     57.08\n",
       "Date:                Tue, 25 Mar 2025   Prob (F-statistic):           7.89e-07\n",
       "Time:                        04:56:26   Log-Likelihood:                -43.519\n",
       "No. Observations:                  19   AIC:                             91.04\n",
       "Df Residuals:                      17   BIC:                             92.93\n",
       "Df Model:                           1                                         \n",
       "Covariance Type:            nonrobust                                         \n",
       "==============================================================================\n",
       "                 coef    std err          t      P>|t|      [0.025      0.975]\n",
       "------------------------------------------------------------------------------\n",
       "const         42.5701      2.680     15.885      0.000      36.916      48.224\n",
       "Height         0.1976      0.026      7.555      0.000       0.142       0.253\n",
       "==============================================================================\n",
       "Omnibus:                        3.056   Durbin-Watson:                   2.643\n",
       "Prob(Omnibus):                  0.217   Jarque-Bera (JB):                1.596\n",
       "Skew:                           0.408   Prob(JB):                        0.450\n",
       "Kurtosis:                       1.837   Cond. No.                         474.\n",
       "==============================================================================\n",
       "\n",
       "Notes:\n",
       "[1] Standard Errors assume that the covariance matrix of the errors is correctly specified.\n",
       "\"\"\""
      ]
     },
     "execution_count": 46,
     "metadata": {},
     "output_type": "execute_result"
    }
   ],
   "source": [
    "# Statsmodel - Without Age\n",
    "x = df['Height']\n",
    "y = df['Weight']\n",
    "\n",
    "x2 = sm.add_constant(x)\n",
    "ols = sm.OLS(y, x2)\n",
    "est = ols.fit()\n",
    "est.summary() # this gives you a very nicely and comprehensive formatted report"
   ]
  },
  {
   "cell_type": "code",
   "execution_count": 47,
   "metadata": {},
   "outputs": [
    {
     "name": "stdout",
     "output_type": "stream",
     "text": [
      "Root MSE =  2.3906390753970257\n"
     ]
    }
   ],
   "source": [
    "y_pred = est.predict(x2)\n",
    "print('Root MSE = ', math.sqrt(metrics.mean_squared_error(y, y_pred))) # smaller value, i.e., close to 0.0, is better"
   ]
  },
  {
   "cell_type": "code",
   "execution_count": 48,
   "metadata": {},
   "outputs": [
    {
     "name": "stderr",
     "output_type": "stream",
     "text": [
      "c:\\Python312\\Lib\\site-packages\\scipy\\stats\\_axis_nan_policy.py:531: UserWarning: kurtosistest only valid for n>=20 ... continuing anyway, n=19\n",
      "  res = hypotest_fun_out(*samples, **kwds)\n"
     ]
    },
    {
     "data": {
      "text/html": [
       "<table class=\"simpletable\">\n",
       "<caption>OLS Regression Results</caption>\n",
       "<tr>\n",
       "  <th>Dep. Variable:</th>         <td>Weight</td>      <th>  R-squared:         </th> <td>   0.828</td>\n",
       "</tr>\n",
       "<tr>\n",
       "  <th>Model:</th>                   <td>OLS</td>       <th>  Adj. R-squared:    </th> <td>   0.807</td>\n",
       "</tr>\n",
       "<tr>\n",
       "  <th>Method:</th>             <td>Least Squares</td>  <th>  F-statistic:       </th> <td>   38.52</td>\n",
       "</tr>\n",
       "<tr>\n",
       "  <th>Date:</th>             <td>Tue, 25 Mar 2025</td> <th>  Prob (F-statistic):</th> <td>7.65e-07</td>\n",
       "</tr>\n",
       "<tr>\n",
       "  <th>Time:</th>                 <td>04:56:26</td>     <th>  Log-Likelihood:    </th> <td> -40.778</td>\n",
       "</tr>\n",
       "<tr>\n",
       "  <th>No. Observations:</th>      <td>    19</td>      <th>  AIC:               </th> <td>   87.56</td>\n",
       "</tr>\n",
       "<tr>\n",
       "  <th>Df Residuals:</th>          <td>    16</td>      <th>  BIC:               </th> <td>   90.39</td>\n",
       "</tr>\n",
       "<tr>\n",
       "  <th>Df Model:</th>              <td>     2</td>      <th>                     </th>     <td> </td>   \n",
       "</tr>\n",
       "<tr>\n",
       "  <th>Covariance Type:</th>      <td>nonrobust</td>    <th>                     </th>     <td> </td>   \n",
       "</tr>\n",
       "</table>\n",
       "<table class=\"simpletable\">\n",
       "<tr>\n",
       "     <td></td>       <th>coef</th>     <th>std err</th>      <th>t</th>      <th>P>|t|</th>  <th>[0.025</th>    <th>0.975]</th>  \n",
       "</tr>\n",
       "<tr>\n",
       "  <th>const</th>  <td>   32.1943</td> <td>    5.082</td> <td>    6.335</td> <td> 0.000</td> <td>   21.420</td> <td>   42.968</td>\n",
       "</tr>\n",
       "<tr>\n",
       "  <th>Height</th> <td>    0.1380</td> <td>    0.035</td> <td>    3.973</td> <td> 0.001</td> <td>    0.064</td> <td>    0.212</td>\n",
       "</tr>\n",
       "<tr>\n",
       "  <th>Age</th>    <td>    1.2267</td> <td>    0.530</td> <td>    2.314</td> <td> 0.034</td> <td>    0.103</td> <td>    2.351</td>\n",
       "</tr>\n",
       "</table>\n",
       "<table class=\"simpletable\">\n",
       "<tr>\n",
       "  <th>Omnibus:</th>       <td> 0.535</td> <th>  Durbin-Watson:     </th> <td>   3.109</td>\n",
       "</tr>\n",
       "<tr>\n",
       "  <th>Prob(Omnibus):</th> <td> 0.765</td> <th>  Jarque-Bera (JB):  </th> <td>   0.554</td>\n",
       "</tr>\n",
       "<tr>\n",
       "  <th>Skew:</th>          <td> 0.333</td> <th>  Prob(JB):          </th> <td>   0.758</td>\n",
       "</tr>\n",
       "<tr>\n",
       "  <th>Kurtosis:</th>      <td> 2.493</td> <th>  Cond. No.          </th> <td>1.02e+03</td>\n",
       "</tr>\n",
       "</table><br/><br/>Notes:<br/>[1] Standard Errors assume that the covariance matrix of the errors is correctly specified.<br/>[2] The condition number is large, 1.02e+03. This might indicate that there are<br/>strong multicollinearity or other numerical problems."
      ],
      "text/latex": [
       "\\begin{center}\n",
       "\\begin{tabular}{lclc}\n",
       "\\toprule\n",
       "\\textbf{Dep. Variable:}    &      Weight      & \\textbf{  R-squared:         } &     0.828   \\\\\n",
       "\\textbf{Model:}            &       OLS        & \\textbf{  Adj. R-squared:    } &     0.807   \\\\\n",
       "\\textbf{Method:}           &  Least Squares   & \\textbf{  F-statistic:       } &     38.52   \\\\\n",
       "\\textbf{Date:}             & Tue, 25 Mar 2025 & \\textbf{  Prob (F-statistic):} &  7.65e-07   \\\\\n",
       "\\textbf{Time:}             &     04:56:26     & \\textbf{  Log-Likelihood:    } &   -40.778   \\\\\n",
       "\\textbf{No. Observations:} &          19      & \\textbf{  AIC:               } &     87.56   \\\\\n",
       "\\textbf{Df Residuals:}     &          16      & \\textbf{  BIC:               } &     90.39   \\\\\n",
       "\\textbf{Df Model:}         &           2      & \\textbf{                     } &             \\\\\n",
       "\\textbf{Covariance Type:}  &    nonrobust     & \\textbf{                     } &             \\\\\n",
       "\\bottomrule\n",
       "\\end{tabular}\n",
       "\\begin{tabular}{lcccccc}\n",
       "                & \\textbf{coef} & \\textbf{std err} & \\textbf{t} & \\textbf{P$> |$t$|$} & \\textbf{[0.025} & \\textbf{0.975]}  \\\\\n",
       "\\midrule\n",
       "\\textbf{const}  &      32.1943  &        5.082     &     6.335  &         0.000        &       21.420    &       42.968     \\\\\n",
       "\\textbf{Height} &       0.1380  &        0.035     &     3.973  &         0.001        &        0.064    &        0.212     \\\\\n",
       "\\textbf{Age}    &       1.2267  &        0.530     &     2.314  &         0.034        &        0.103    &        2.351     \\\\\n",
       "\\bottomrule\n",
       "\\end{tabular}\n",
       "\\begin{tabular}{lclc}\n",
       "\\textbf{Omnibus:}       &  0.535 & \\textbf{  Durbin-Watson:     } &    3.109  \\\\\n",
       "\\textbf{Prob(Omnibus):} &  0.765 & \\textbf{  Jarque-Bera (JB):  } &    0.554  \\\\\n",
       "\\textbf{Skew:}          &  0.333 & \\textbf{  Prob(JB):          } &    0.758  \\\\\n",
       "\\textbf{Kurtosis:}      &  2.493 & \\textbf{  Cond. No.          } & 1.02e+03  \\\\\n",
       "\\bottomrule\n",
       "\\end{tabular}\n",
       "%\\caption{OLS Regression Results}\n",
       "\\end{center}\n",
       "\n",
       "Notes: \\newline\n",
       " [1] Standard Errors assume that the covariance matrix of the errors is correctly specified. \\newline\n",
       " [2] The condition number is large, 1.02e+03. This might indicate that there are \\newline\n",
       " strong multicollinearity or other numerical problems."
      ],
      "text/plain": [
       "<class 'statsmodels.iolib.summary.Summary'>\n",
       "\"\"\"\n",
       "                            OLS Regression Results                            \n",
       "==============================================================================\n",
       "Dep. Variable:                 Weight   R-squared:                       0.828\n",
       "Model:                            OLS   Adj. R-squared:                  0.807\n",
       "Method:                 Least Squares   F-statistic:                     38.52\n",
       "Date:                Tue, 25 Mar 2025   Prob (F-statistic):           7.65e-07\n",
       "Time:                        04:56:26   Log-Likelihood:                -40.778\n",
       "No. Observations:                  19   AIC:                             87.56\n",
       "Df Residuals:                      16   BIC:                             90.39\n",
       "Df Model:                           2                                         \n",
       "Covariance Type:            nonrobust                                         \n",
       "==============================================================================\n",
       "                 coef    std err          t      P>|t|      [0.025      0.975]\n",
       "------------------------------------------------------------------------------\n",
       "const         32.1943      5.082      6.335      0.000      21.420      42.968\n",
       "Height         0.1380      0.035      3.973      0.001       0.064       0.212\n",
       "Age            1.2267      0.530      2.314      0.034       0.103       2.351\n",
       "==============================================================================\n",
       "Omnibus:                        0.535   Durbin-Watson:                   3.109\n",
       "Prob(Omnibus):                  0.765   Jarque-Bera (JB):                0.554\n",
       "Skew:                           0.333   Prob(JB):                        0.758\n",
       "Kurtosis:                       2.493   Cond. No.                     1.02e+03\n",
       "==============================================================================\n",
       "\n",
       "Notes:\n",
       "[1] Standard Errors assume that the covariance matrix of the errors is correctly specified.\n",
       "[2] The condition number is large, 1.02e+03. This might indicate that there are\n",
       "strong multicollinearity or other numerical problems.\n",
       "\"\"\""
      ]
     },
     "execution_count": 48,
     "metadata": {},
     "output_type": "execute_result"
    }
   ],
   "source": [
    "# Statsmodel - With Age\n",
    "x = pd.concat([df['Height'], df['Age']], axis=1)\n",
    "y = df['Weight']\n",
    "\n",
    "x2 = sm.add_constant(x)\n",
    "ols = sm.OLS(y, x2)\n",
    "est = ols.fit()\n",
    "est.summary() # this gives you a very nicely and comprehensive formatted report"
   ]
  },
  {
   "cell_type": "code",
   "execution_count": 49,
   "metadata": {},
   "outputs": [
    {
     "name": "stdout",
     "output_type": "stream",
     "text": [
      "Root MSE =  2.0694007032896233\n"
     ]
    }
   ],
   "source": [
    "y_pred = est.predict(x2)\n",
    "print('Root MSE = ', math.sqrt(metrics.mean_squared_error(y, y_pred))) # smaller value, i.e., close to 0.0, is better"
   ]
  }
 ],
 "metadata": {
  "kernelspec": {
   "display_name": "Python 3",
   "language": "python",
   "name": "python3"
  },
  "language_info": {
   "codemirror_mode": {
    "name": "ipython",
    "version": 3
   },
   "file_extension": ".py",
   "mimetype": "text/x-python",
   "name": "python",
   "nbconvert_exporter": "python",
   "pygments_lexer": "ipython3",
   "version": "3.12.4"
  }
 },
 "nbformat": 4,
 "nbformat_minor": 4
}
