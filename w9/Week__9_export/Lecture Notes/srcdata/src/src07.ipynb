{
 "cells": [
  {
   "cell_type": "code",
   "execution_count": 1,
   "metadata": {},
   "outputs": [
    {
     "name": "stdout",
     "output_type": "stream",
     "text": [
      "red       2000\n",
      "blue      1000\n",
      "yellow     500\n",
      "orange    1000\n",
      "dtype: int64\n"
     ]
    }
   ],
   "source": [
    "import numpy as np\n",
    "import pandas as pd\n",
    "\n",
    "mydict1 = {'red':2000, 'blue': 1000, 'yellow':500, 'orange':1000}\n",
    "myseries1 = pd.Series(mydict1)\n",
    "print(myseries1)"
   ]
  },
  {
   "cell_type": "code",
   "execution_count": 2,
   "metadata": {},
   "outputs": [
    {
     "name": "stdout",
     "output_type": "stream",
     "text": [
      "red        400\n",
      "yellow    1000\n",
      "black      700\n",
      "dtype: int64\n"
     ]
    }
   ],
   "source": [
    "mydict2 = {'red':400, 'yellow':1000, 'black':700}\n",
    "myseries2 = pd.Series(mydict2)\n",
    "print(myseries2)"
   ]
  },
  {
   "cell_type": "code",
   "execution_count": 3,
   "metadata": {},
   "outputs": [
    {
     "name": "stdout",
     "output_type": "stream",
     "text": [
      "black        NaN\n",
      "blue         NaN\n",
      "orange       NaN\n",
      "red       2400.0\n",
      "yellow    1500.0\n",
      "dtype: float64\n"
     ]
    }
   ],
   "source": [
    "myseries3 = myseries1 + myseries2\n",
    "print(myseries3)"
   ]
  }
 ],
 "metadata": {
  "kernelspec": {
   "display_name": "Python 3",
   "language": "python",
   "name": "python3"
  },
  "language_info": {
   "codemirror_mode": {
    "name": "ipython",
    "version": 3
   },
   "file_extension": ".py",
   "mimetype": "text/x-python",
   "name": "python",
   "nbconvert_exporter": "python",
   "pygments_lexer": "ipython3",
   "version": "3.11.3"
  }
 },
 "nbformat": 4,
 "nbformat_minor": 4
}
