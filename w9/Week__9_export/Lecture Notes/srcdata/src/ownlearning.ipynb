{
 "cells": [
  {
   "cell_type": "code",
   "execution_count": 2,
   "metadata": {},
   "outputs": [
    {
     "name": "stdout",
     "output_type": "stream",
     "text": [
      "Alice      85\n",
      "Bob        90\n",
      "Charles    40\n",
      "dtype: int64\n"
     ]
    }
   ],
   "source": [
    "import pandas as pd\n",
    "\n",
    "grades = pd.Series([85, 90, 40], index = ['Alice', 'Bob', 'Charles'])\n",
    "print(grades)"
   ]
  },
  {
   "cell_type": "code",
   "execution_count": 8,
   "metadata": {},
   "outputs": [
    {
     "name": "stdout",
     "output_type": "stream",
     "text": [
      "90\n",
      "90\n",
      "Bob    90\n",
      "dtype: int64\n"
     ]
    }
   ],
   "source": [
    "grades = pd.Series([85, 90, 40], index = ['Alice', 'Bob', 'Charles'])\n",
    "\n",
    "print(grades[1])\n",
    "print(grades['Bob'])\n",
    "print(grades[grades >= 90])"
   ]
  },
  {
   "cell_type": "code",
   "execution_count": null,
   "metadata": {},
   "outputs": [],
   "source": [
    "grades = pd.Series([85, 90, 40], index = ['Alice', 'Bob', 'Charles'])\n",
    "\n",
    "grades"
   ]
  },
  {
   "cell_type": "code",
   "execution_count": 9,
   "metadata": {},
   "outputs": [
    {
     "name": "stdout",
     "output_type": "stream",
     "text": [
      "    Name  Score  Percentage Grade\n",
      "0  Alice     85        0.85     A\n",
      "1    Bob     74        0.74     B\n",
      "2  Cindy     62        0.62     C\n",
      "3    Dan     49        0.49     F\n"
     ]
    }
   ],
   "source": [
    "import pandas as pd\n",
    "\n",
    "# Step 1: Original scores as integers\n",
    "df = pd.DataFrame({\n",
    "    \"Name\": [\"Alice\", \"Bob\", \"Cindy\", \"Dan\"],\n",
    "    \"Score\": [85, 74, 62, 49]\n",
    "})\n",
    "\n",
    "# Step 2: Convert to percentage (float)\n",
    "df[\"Percentage\"] = df[\"Score\"] / 100\n",
    "\n",
    "# Step 3: Assign grades using conditions\n",
    "def assign_grade(pct):\n",
    "    if pct >= 0.8:\n",
    "        return \"A\"\n",
    "    elif pct >= 0.7:\n",
    "        return \"B\"\n",
    "    elif pct >= 0.6:\n",
    "        return \"C\"\n",
    "    elif pct >= 0.5:\n",
    "        return \"D\"\n",
    "    else:\n",
    "        return \"F\"\n",
    "\n",
    "df[\"Grade\"] = df[\"Percentage\"].apply(assign_grade)\n",
    "\n",
    "print(df)\n"
   ]
  }
 ],
 "metadata": {
  "kernelspec": {
   "display_name": "Python 3",
   "language": "python",
   "name": "python3"
  },
  "language_info": {
   "codemirror_mode": {
    "name": "ipython",
    "version": 3
   },
   "file_extension": ".py",
   "mimetype": "text/x-python",
   "name": "python",
   "nbconvert_exporter": "python",
   "pygments_lexer": "ipython3",
   "version": "3.11.3"
  }
 },
 "nbformat": 4,
 "nbformat_minor": 2
}
