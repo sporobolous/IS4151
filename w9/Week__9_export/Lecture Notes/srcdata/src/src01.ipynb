{
 "cells": [
  {
   "cell_type": "code",
   "execution_count": 1,
   "metadata": {},
   "outputs": [],
   "source": [
    "import numpy as np\n",
    "import pandas as pd\n",
    "\n",
    "from sklearn.model_selection import train_test_split\n",
    "from sklearn import tree\n",
    "from sklearn import metrics\n",
    "\n",
    "import graphviz\n",
    "\n",
    "import is4151is5451 as iot"
   ]
  },
  {
   "cell_type": "code",
   "execution_count": 2,
   "metadata": {},
   "outputs": [],
   "source": [
    "iot.set_default_pandas_options()"
   ]
  },
  {
   "cell_type": "code",
   "execution_count": 3,
   "metadata": {},
   "outputs": [
    {
     "name": "stdout",
     "output_type": "stream",
     "text": [
      "Training Accuracy = 1.0\n"
     ]
    }
   ],
   "source": [
    "# data prep\n",
    "class_labels = ['amphibian', 'bird', 'fish', 'insect', 'invertebrate', 'mammal', 'reptile']\n",
    "df = pd.read_csv('../data/zoo.csv', index_col=0)\n",
    "\n",
    "X = df.drop('type', axis=1).values\n",
    "y = df['type'].values\n",
    "X_train, X_test, y_train, y_test = train_test_split(X, y, train_size = 0.7, test_size = 0.3, shuffle = True, stratify = df['type'])\n",
    "\n",
    "X_headers = df.drop('type', axis=1).columns.values\n",
    "\n",
    "\n",
    "\n",
    "# modelling\n",
    "\n",
    "clf = tree.DecisionTreeClassifier(criterion='gini', splitter='best')\n",
    "\n",
    "clf = clf.fit(X_train, y_train)\n",
    "y_train_pred = clf.predict(X_train)\n",
    "\n",
    "print('Training Accuracy = {}'.format(metrics.accuracy_score(y_train, y_train_pred)))"
   ]
  },
  {
   "cell_type": "code",
   "execution_count": 4,
   "metadata": {},
   "outputs": [
    {
     "name": "stdout",
     "output_type": "stream",
     "text": [
      "Training Confusion = \n",
      "[[ 3  0  0  0  0  0  0]\n",
      " [ 0 14  0  0  0  0  0]\n",
      " [ 0  0  9  0  0  0  0]\n",
      " [ 0  0  0  6  0  0  0]\n",
      " [ 0  0  0  0  7  0  0]\n",
      " [ 0  0  0  0  0 28  0]\n",
      " [ 0  0  0  0  0  0  3]]\n"
     ]
    }
   ],
   "source": [
    "print('Training Confusion = \\n{}'.format(metrics.confusion_matrix(y_train, y_train_pred, labels=class_labels)))"
   ]
  },
  {
   "cell_type": "code",
   "execution_count": 5,
   "metadata": {},
   "outputs": [
    {
     "name": "stdout",
     "output_type": "stream",
     "text": [
      "Testing Accuracy = 0.9032258064516129\n"
     ]
    }
   ],
   "source": [
    "y_test_pred = clf.predict(X_test)\n",
    "\n",
    "print('Testing Accuracy = {}'.format(metrics.accuracy_score(y_test, y_test_pred)))"
   ]
  },
  {
   "cell_type": "code",
   "execution_count": 6,
   "metadata": {},
   "outputs": [
    {
     "name": "stdout",
     "output_type": "stream",
     "text": [
      "Testing Confusion = \n",
      "[[ 1  0  0  0  0  0  0]\n",
      " [ 0  6  0  0  0  0  0]\n",
      " [ 0  0  4  0  0  0  0]\n",
      " [ 0  0  0  2  0  0  0]\n",
      " [ 0  0  0  1  2  0  0]\n",
      " [ 0  0  0  0  0 13  0]\n",
      " [ 1  0  0  1  0  0  0]]\n"
     ]
    }
   ],
   "source": [
    "print('Testing Confusion = \\n{}'.format(metrics.confusion_matrix(y_test, y_test_pred, labels=class_labels)))"
   ]
  },
  {
   "cell_type": "code",
   "execution_count": 7,
   "metadata": {},
   "outputs": [],
   "source": [
    "# export test dataset predicted result\n",
    "\n",
    "result = pd.concat([pd.DataFrame(X_test, columns=X_headers), pd.Series(y_test, name='type'), pd.Series(y_test_pred, name='pred_type')], axis=1)\n",
    "result.to_csv('../data/zoo-predict.csv')"
   ]
  },
  {
   "cell_type": "code",
   "execution_count": 8,
   "metadata": {},
   "outputs": [
    {
     "data": {
      "text/plain": [
       "'../data/zoo-model.pdf'"
      ]
     },
     "execution_count": 8,
     "metadata": {},
     "output_type": "execute_result"
    }
   ],
   "source": [
    "# export decision tree from training dataset\n",
    "\n",
    "dot_data = tree.export_graphviz(clf, out_file=None, feature_names=X_headers, \n",
    "                                                    class_names=class_labels, \n",
    "                                                    filled=True, rounded=True, special_characters=True)\n",
    "graph = graphviz.Source(dot_data)\n",
    "graph.render(\"../data/zoo-model\")"
   ]
  }
 ],
 "metadata": {
  "kernelspec": {
   "display_name": "Python 3",
   "language": "python",
   "name": "python3"
  },
  "language_info": {
   "codemirror_mode": {
    "name": "ipython",
    "version": 3
   },
   "file_extension": ".py",
   "mimetype": "text/x-python",
   "name": "python",
   "nbconvert_exporter": "python",
   "pygments_lexer": "ipython3",
   "version": "3.11.3"
  }
 },
 "nbformat": 4,
 "nbformat_minor": 4
}
