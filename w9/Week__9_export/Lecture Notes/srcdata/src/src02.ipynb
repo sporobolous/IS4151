{
 "cells": [
  {
   "cell_type": "code",
   "execution_count": 1,
   "metadata": {},
   "outputs": [],
   "source": [
    "import numpy as np\n",
    "import pandas as pd\n",
    "\n",
    "from sklearn.cluster import KMeans\n",
    "from sklearn import metrics\n",
    "\n",
    "import is4151is5451 as iot"
   ]
  },
  {
   "cell_type": "code",
   "execution_count": 2,
   "metadata": {},
   "outputs": [],
   "source": [
    "iot.set_default_pandas_options()"
   ]
  },
  {
   "cell_type": "code",
   "execution_count": 3,
   "metadata": {},
   "outputs": [],
   "source": [
    "# data prep\n",
    "df = pd.read_csv('../data/zoo.csv')\n",
    "\n",
    "X = df.drop('animal', axis=1).drop('type', axis=1).values"
   ]
  },
  {
   "cell_type": "code",
   "execution_count": 4,
   "metadata": {},
   "outputs": [
    {
     "name": "stdout",
     "output_type": "stream",
     "text": [
      "Silhouette Score for K=7 = 0.3234658538852141\n"
     ]
    }
   ],
   "source": [
    "# modelling\n",
    "\n",
    "kmeans = KMeans(n_clusters=7, random_state=0)\n",
    "kmeans = kmeans.fit(X)\n",
    "\n",
    "result = pd.concat([df, pd.DataFrame({'cluster':kmeans.labels_})], axis=1)\n",
    "\n",
    "print('Silhouette Score for K=7 = {}'.format(metrics.silhouette_score(X, kmeans.labels_)))"
   ]
  },
  {
   "cell_type": "code",
   "execution_count": 6,
   "metadata": {},
   "outputs": [],
   "source": [
    "# export clustering results\n",
    "\n",
    "result.to_csv('../data/zoo-clusters.csv')"
   ]
  }
 ],
 "metadata": {
  "kernelspec": {
   "display_name": "Python 3",
   "language": "python",
   "name": "python3"
  },
  "language_info": {
   "codemirror_mode": {
    "name": "ipython",
    "version": 3
   },
   "file_extension": ".py",
   "mimetype": "text/x-python",
   "name": "python",
   "nbconvert_exporter": "python",
   "pygments_lexer": "ipython3",
   "version": "3.11.3"
  }
 },
 "nbformat": 4,
 "nbformat_minor": 4
}
